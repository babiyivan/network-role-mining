{
 "cells": [
  {
   "cell_type": "code",
   "execution_count": 7,
   "id": "445eafcd",
   "metadata": {
    "message": false,
    "vscode": {
     "languageId": "r"
    },
    "warning": false
   },
   "outputs": [],
   "source": [
    "libs <- c(\n",
    "  \"dplyr\",\n",
    "  \"arrow\",\n",
    "  \"igraph\"\n",
    ")\n",
    "new.packages <- libs[!(libs %in% installed.packages()[,\"Package\"])]\n",
    "if(length(new.packages)) install.packages(new.packages)\n",
    "invisible(lapply(libs, library, character.only = TRUE))"
   ]
  },
  {
   "cell_type": "markdown",
   "id": "a3e301b8",
   "metadata": {},
   "source": [
    "Find users common in replies, votes, and follows edge lists"
   ]
  },
  {
   "cell_type": "code",
   "execution_count": 8,
   "id": "803d6990",
   "metadata": {
    "lines_to_next_cell": 2,
    "vscode": {
     "languageId": "r"
    }
   },
   "outputs": [],
   "source": [
    "votes = read_parquet(\"data/df_edge_list_directed_users_votes_to_postings_net.parquet\") %>%\n",
    "  rename(weight = count_votes_to_postings_net)\n",
    "replies <- read_parquet(\"data/df_edge_list_directed_users_postings_replies.parquet\") %>%\n",
    "    rename(weight = count_posting_replies)\n",
    "follows = read_parquet('data/df_edge_list_directed_users_combined_postings_replies_and_votes_to_postings_net_and_follow_connections.parquet')\n",
    "follows = follows %>% filter(count_follow_connection > 0) %>%\n",
    "  rename(weight = count_follow_connection)\n",
    "\n",
    "els = list(\n",
    "  votes = votes,\n",
    "  replies = replies,\n",
    "  follows = follows\n",
    ")\n",
    "\n",
    "# Get the users that are present in all three datasets\n",
    "users = unique(c(votes$ID_CommunityIdentity_Target, votes$ID_CommunityIdentity_Source, replies$ID_CommunityIdentity_Target, replies$ID_CommunityIdentity_Source, follows$ID_CommunityIdentity_Target, follows$ID_CommunityIdentity_Source))\n",
    "users = users[\n",
    "    (users %in% votes$ID_CommunityIdentity_Target |\n",
    "    users %in% votes$ID_CommunityIdentity_Source) &\n",
    "    (users %in% replies$ID_CommunityIdentity_Target |\n",
    "    users %in% replies$ID_CommunityIdentity_Source) &\n",
    "    (users %in% follows$ID_CommunityIdentity_Target |\n",
    "    users %in% follows$ID_CommunityIdentity_Source)\n",
    "]"
   ]
  },
  {
   "cell_type": "markdown",
   "id": "51a238f1",
   "metadata": {},
   "source": [
    "We extract subgraphs of an appropriate size from the sparsest graph, the replies graph, using the modularity maximisation community detection algorithm, then extract the same nodes in the community from the votes and follows graphs."
   ]
  },
  {
   "cell_type": "code",
   "execution_count": 9,
   "id": "ab0d7716",
   "metadata": {
    "vscode": {
     "languageId": "r"
    }
   },
   "outputs": [],
   "source": [
    "gs = list()\n",
    "base = 'follows'\n",
    "g_undir = graph_from_data_frame(els[[base]], directed = FALSE)\n",
    "nodes = V(g_undir)$name\n",
    "nodes = nodes[as.integer(nodes) %in% users]\n",
    "g_undir = induced_subgraph(g_undir, nodes)\n",
    "\n",
    "lower = 240\n",
    "upper = 260\n",
    "\n",
    "# use modularity maximisation on the undirected graph to find a reply community of appropriate size\n",
    "while(TRUE) {\n",
    "  comm = cluster_louvain(g_undir)\n",
    "  comm_sizes = sizes(comm)\n",
    "  n = comm_sizes[(lower < comm_sizes & comm_sizes < upper)][1]\n",
    "  if(!is.na(n[[1]])) break\n",
    "}\n",
    "idx = which(comm_sizes == n)\n",
    "\n",
    "g_base = graph_from_data_frame(els[[base]], directed = TRUE)\n",
    "gs[[base]] = induced_subgraph(g_base, communities(comm)[[idx]])"
   ]
  },
  {
   "cell_type": "markdown",
   "id": "d4d47c49",
   "metadata": {},
   "source": [
    "Extract same nodes as base graph from other graphs"
   ]
  },
  {
   "cell_type": "code",
   "execution_count": 10,
   "id": "1dc04eab",
   "metadata": {
    "vscode": {
     "languageId": "r"
    }
   },
   "outputs": [
    {
     "data": {
      "text/html": [
       "<table class=\"dataframe\">\n",
       "<caption>A data.frame: 3 × 3</caption>\n",
       "<thead>\n",
       "\t<tr><th scope=col>type</th><th scope=col>nodes</th><th scope=col>edges</th></tr>\n",
       "\t<tr><th scope=col>&lt;chr&gt;</th><th scope=col>&lt;dbl&gt;</th><th scope=col>&lt;dbl&gt;</th></tr>\n",
       "</thead>\n",
       "<tbody>\n",
       "\t<tr><td>replies</td><td>255</td><td>2210</td></tr>\n",
       "\t<tr><td>votes  </td><td>255</td><td>7372</td></tr>\n",
       "\t<tr><td>follows</td><td>255</td><td> 330</td></tr>\n",
       "</tbody>\n",
       "</table>\n"
      ],
      "text/latex": [
       "A data.frame: 3 × 3\n",
       "\\begin{tabular}{lll}\n",
       " type & nodes & edges\\\\\n",
       " <chr> & <dbl> & <dbl>\\\\\n",
       "\\hline\n",
       "\t replies & 255 & 2210\\\\\n",
       "\t votes   & 255 & 7372\\\\\n",
       "\t follows & 255 &  330\\\\\n",
       "\\end{tabular}\n"
      ],
      "text/markdown": [
       "\n",
       "A data.frame: 3 × 3\n",
       "\n",
       "| type &lt;chr&gt; | nodes &lt;dbl&gt; | edges &lt;dbl&gt; |\n",
       "|---|---|---|\n",
       "| replies | 255 | 2210 |\n",
       "| votes   | 255 | 7372 |\n",
       "| follows | 255 |  330 |\n",
       "\n"
      ],
      "text/plain": [
       "  type    nodes edges\n",
       "1 replies 255   2210 \n",
       "2 votes   255   7372 \n",
       "3 follows 255    330 "
      ]
     },
     "metadata": {},
     "output_type": "display_data"
    }
   ],
   "source": [
    "types = c('votes', 'replies', 'follows')\n",
    "nodes = V(gs[[base]])$name\n",
    "\n",
    "for (t in c('replies', 'votes', 'follows')) {\n",
    "  if (t == base) next\n",
    "  g = graph_from_data_frame(els[[t]], directed = TRUE)\n",
    "  gs[[t]] = induced_subgraph(g, vids = nodes)\n",
    "}\n",
    "\n",
    "data.frame(type = c(\"replies\", \"votes\", \"follows\"),\n",
    "  nodes = c(vcount(gs[['replies']]), vcount(gs[['votes']]), vcount(gs[['follows']])),\n",
    "  edges = c(ecount(gs[['replies']]), ecount(gs[['votes']]), ecount(gs[['follows']]))\n",
    ")\n"
   ]
  },
  {
   "cell_type": "code",
   "execution_count": 6,
   "id": "4919b044",
   "metadata": {
    "lines_to_next_cell": 0,
    "vscode": {
     "languageId": "r"
    }
   },
   "outputs": [],
   "source": [
    "for (t in types) {\n",
    "  write_graph(gs[[t]], paste0('graphs/',t,'-',n,'.graphml'), format = 'graphml')\n",
    "}"
   ]
  }
 ],
 "metadata": {
  "jupytext": {
   "cell_metadata_filter": "message,warning,-all",
   "main_language": "R",
   "notebook_metadata_filter": "-all"
  },
  "kernelspec": {
   "display_name": "R",
   "language": "R",
   "name": "ir"
  },
  "language_info": {
   "codemirror_mode": "r",
   "file_extension": ".r",
   "mimetype": "text/x-r-source",
   "name": "R",
   "pygments_lexer": "r",
   "version": "4.4.2"
  }
 },
 "nbformat": 4,
 "nbformat_minor": 5
}
