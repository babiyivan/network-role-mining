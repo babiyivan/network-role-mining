{
 "cells": [
  {
   "cell_type": "code",
   "execution_count": 2,
   "id": "445eafcd",
   "metadata": {
    "message": false,
    "vscode": {
     "languageId": "r"
    },
    "warning": false
   },
   "outputs": [],
   "source": [
    "library(dplyr)\n",
    "library(arrow)\n",
    "library(igraph)"
   ]
  },
  {
   "cell_type": "markdown",
   "id": "a3e301b8",
   "metadata": {},
   "source": [
    "Find users common in replies, votes, and follows edge lists"
   ]
  },
  {
   "cell_type": "code",
   "execution_count": 3,
   "id": "803d6990",
   "metadata": {
    "lines_to_next_cell": 2,
    "vscode": {
     "languageId": "r"
    }
   },
   "outputs": [],
   "source": [
    "votes = read_parquet(\"data/df_edge_list_directed_users_votes_to_postings_net.parquet\") %>%\n",
    "  rename(weight = count_votes_to_postings_net)\n",
    "replies <- read_parquet(\"data/df_edge_list_directed_users_postings_replies.parquet\") %>%\n",
    "    rename(weight = count_posting_replies)\n",
    "follows = read_parquet('data/df_edge_list_directed_users_combined_postings_replies_and_votes_to_postings_net_and_follow_connections.parquet')\n",
    "follows = follows %>% filter(count_follow_connection > 0) %>%\n",
    "  rename(weight = count_follow_connection)\n",
    "\n",
    "users = unique(c(votes$ID_CommunityIdentity_Target, votes$ID_CommunityIdentity_Source, replies$ID_CommunityIdentity_Target, replies$ID_CommunityIdentity_Source, follows$ID_CommunityIdentity_Target, follows$ID_CommunityIdentity_Source))\n",
    "users = users[\n",
    "    (users %in% votes$ID_CommunityIdentity_Target |\n",
    "    users %in% votes$ID_CommunityIdentity_Source) &\n",
    "    (users %in% replies$ID_CommunityIdentity_Target |\n",
    "    users %in% replies$ID_CommunityIdentity_Source) &\n",
    "    (users %in% follows$ID_CommunityIdentity_Target |\n",
    "    users %in% follows$ID_CommunityIdentity_Source)\n",
    "]"
   ]
  },
  {
   "cell_type": "markdown",
   "id": "51a238f1",
   "metadata": {},
   "source": [
    "We extract subgraphs of an appropriate size from the sparsest graph, the replies graph, using the modularity maximisation community detection algorithm, then extract the same nodes in the community from the votes and follows graphs."
   ]
  },
  {
   "cell_type": "code",
   "execution_count": null,
   "id": "ab0d7716",
   "metadata": {
    "vscode": {
     "languageId": "r"
    }
   },
   "outputs": [],
   "source": [
    "# use reply graph as base graph\n",
    "g_replies_undir = graph_from_data_frame(replies, directed = FALSE)\n",
    "g_replies <- graph_from_data_frame(replies, directed = TRUE)\n",
    "\n",
    "upper = 150\n",
    "lower = 100\n",
    "\n",
    "# use modularity maximisation on the undirected graph to find a reply community of appropriate size\n",
    "while (TRUE) {\n",
    "  comm = cluster_louvain(g_s_undir)\n",
    "  comm_sizes = sizes(comm)\n",
    "  if ( min(comm_sizes) > lower & min(comm_sizes) < upper) {\n",
    "    print(min(comm_sizes))\n",
    "    break\n",
    "  }\n",
    "}\n",
    "\n",
    "n = min(comm_sizes)\n",
    "smallest = which.min(comm_sizes)\n",
    "base = induced_subgraph(g_replies, communities(comm)[[smallest]])"
   ]
  },
  {
   "cell_type": "code",
   "execution_count": 5,
   "id": "d062e5cc",
   "metadata": {
    "vscode": {
     "languageId": "r"
    }
   },
   "outputs": [
    {
     "data": {
      "text/html": [
       "<strong>11:</strong> 72"
      ],
      "text/latex": [
       "\\textbf{11:} 72"
      ],
      "text/markdown": [
       "**11:** 72"
      ],
      "text/plain": [
       "11 \n",
       "72 "
      ]
     },
     "metadata": {},
     "output_type": "display_data"
    }
   ],
   "source": [
    "# use follow graph as base graph\n",
    "g_follows_undir = graph_from_data_frame(follows, directed = FALSE)\n",
    "g_follows = graph_from_data_frame(follows, directed = TRUE)\n",
    "nodes = V(g_follows)$name\n",
    "nodes = nodes[as.integer(nodes) %in% users]\n",
    "g_follows_undir = induced_subgraph(g_follows_undir, nodes)\n",
    "\n",
    "\n",
    "comm = cluster_louvain(g_follows_undir)\n",
    "comm_sizes = sizes(comm)\n",
    "n = comm_sizes[(50 < comm_sizes & comm_sizes < 100)][1]\n",
    "\n",
    "idx = which(comm_sizes == n)\n",
    "base = induced_subgraph(g_follows, communities(comm)[[idx]])"
   ]
  },
  {
   "cell_type": "markdown",
   "id": "d4d47c49",
   "metadata": {},
   "source": [
    "Extract same nodes as base graph from other graphs"
   ]
  },
  {
   "cell_type": "code",
   "execution_count": 6,
   "id": "1dc04eab",
   "metadata": {
    "vscode": {
     "languageId": "r"
    }
   },
   "outputs": [],
   "source": [
    "nodes = V(base)$name\n",
    "\n",
    "# extract same nodes from replies graph\n",
    "df_replies <- read_parquet(\"data/df_edge_list_directed_users_postings_replies.parquet\") %>%\n",
    "    rename(weight = count_posting_replies)\n",
    "g_replies <- graph_from_data_frame(df_replies, directed = TRUE)\n",
    "g_replies <- induced_subgraph(g_replies, vids = nodes)\n",
    "\n",
    "# extract same nodes from votes graph\n",
    "votes = read_parquet(\"data/df_edge_list_directed_users_votes_to_postings_net.parquet\") %>%\n",
    "  rename(weight = count_votes_to_postings_net)\n",
    "g_votes = graph_from_data_frame(votes, directed = TRUE)\n",
    "g_votes <- induced_subgraph(g_votes, vids = nodes)\n",
    "\n",
    "# extract same nodes from follows graph\n",
    "# follows = read_parquet('data/df_edge_list_directed_users_combined_postings_replies_and_votes_to_postings_net_and_follow_connections.parquet')\n",
    "# follows = follows %>% filter(count_follow_connection > 0) %>%\n",
    "#    rename(weight = count_follow_connection)\n",
    "# g_follows =  graph_from_data_frame(follows, directed = TRUE)\n",
    "g_follows = induced_subgraph(g_follows, vids = nodes)"
   ]
  },
  {
   "cell_type": "code",
   "execution_count": 7,
   "id": "4919b044",
   "metadata": {
    "lines_to_next_cell": 0,
    "vscode": {
     "languageId": "r"
    }
   },
   "outputs": [],
   "source": [
    "write_graph(g_replies, paste('graphs/replies-',n,'.graphml', sep=''), format='graphml')\n",
    "write_graph(g_votes, paste('graphs/votes-',n,'.graphml', sep=''), format = 'graphml')\n",
    "write_graph(g_follows, paste('graphs/follows-',n,'.graphml', sep=''), format = 'graphml')"
   ]
  },
  {
   "cell_type": "markdown",
   "id": "1a0ff354",
   "metadata": {},
   "source": [
    "\n",
    "\n"
   ]
  }
 ],
 "metadata": {
  "jupytext": {
   "cell_metadata_filter": "message,warning,-all",
   "main_language": "R",
   "notebook_metadata_filter": "-all"
  },
  "kernelspec": {
   "display_name": "R",
   "language": "R",
   "name": "ir"
  },
  "language_info": {
   "codemirror_mode": "r",
   "file_extension": ".r",
   "mimetype": "text/x-r-source",
   "name": "R",
   "pygments_lexer": "r",
   "version": "4.4.2"
  }
 },
 "nbformat": 4,
 "nbformat_minor": 5
}
