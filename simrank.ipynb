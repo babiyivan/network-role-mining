{
 "cells": [
  {
   "cell_type": "markdown",
   "metadata": {},
   "source": [
    "# SimRank\n",
    "----\n",
    "Similarity measure from the **automorphic** equivalence family. However, the SimRank family unlike the RoleSim, do not satisfy all the axioms for the automorphic equivalence, but can be used as a measure for quantifying it."
   ]
  },
  {
   "cell_type": "code",
   "execution_count": 1,
   "metadata": {},
   "outputs": [],
   "source": [
    "import pandas as pd\n",
    "import numpy as np\n",
    "\n",
    "from SimRank import SimRank"
   ]
  },
  {
   "cell_type": "code",
   "execution_count": 2,
   "metadata": {},
   "outputs": [],
   "source": [
    "def get_n_pairs(matrix, sim_score=0.8):\n",
    "    '''\n",
    "    Helper function to return the number of similar pairs\n",
    "    with the desired similarity score.\n",
    "    '''\n",
    "    return np.count_nonzero(~np.isnan(matrix[matrix >= sim_score])) - matrix.shape[0]"
   ]
  },
  {
   "cell_type": "markdown",
   "metadata": {},
   "source": [
    "## Postings and Replies"
   ]
  },
  {
   "cell_type": "code",
   "execution_count": 2,
   "metadata": {},
   "outputs": [],
   "source": [
    "postings_replies = pd.read_parquet('data/df_edge_list_directed_users_postings_replies.parquet')"
   ]
  },
  {
   "cell_type": "code",
   "execution_count": 3,
   "metadata": {},
   "outputs": [
    {
     "data": {
      "text/html": [
       "<div>\n",
       "<style scoped>\n",
       "    .dataframe tbody tr th:only-of-type {\n",
       "        vertical-align: middle;\n",
       "    }\n",
       "\n",
       "    .dataframe tbody tr th {\n",
       "        vertical-align: top;\n",
       "    }\n",
       "\n",
       "    .dataframe thead th {\n",
       "        text-align: right;\n",
       "    }\n",
       "</style>\n",
       "<table border=\"1\" class=\"dataframe\">\n",
       "  <thead>\n",
       "    <tr style=\"text-align: right;\">\n",
       "      <th></th>\n",
       "      <th>ID_CommunityIdentity_Source</th>\n",
       "      <th>ID_CommunityIdentity_Target</th>\n",
       "      <th>count_posting_replies</th>\n",
       "    </tr>\n",
       "  </thead>\n",
       "  <tbody>\n",
       "    <tr>\n",
       "      <th>0</th>\n",
       "      <td>30</td>\n",
       "      <td>57450</td>\n",
       "      <td>1</td>\n",
       "    </tr>\n",
       "    <tr>\n",
       "      <th>1</th>\n",
       "      <td>30</td>\n",
       "      <td>99495</td>\n",
       "      <td>1</td>\n",
       "    </tr>\n",
       "    <tr>\n",
       "      <th>2</th>\n",
       "      <td>30</td>\n",
       "      <td>117560</td>\n",
       "      <td>1</td>\n",
       "    </tr>\n",
       "    <tr>\n",
       "      <th>3</th>\n",
       "      <td>30</td>\n",
       "      <td>125092</td>\n",
       "      <td>1</td>\n",
       "    </tr>\n",
       "    <tr>\n",
       "      <th>4</th>\n",
       "      <td>30</td>\n",
       "      <td>133175</td>\n",
       "      <td>1</td>\n",
       "    </tr>\n",
       "  </tbody>\n",
       "</table>\n",
       "</div>"
      ],
      "text/plain": [
       "   ID_CommunityIdentity_Source  ID_CommunityIdentity_Target  \\\n",
       "0                           30                        57450   \n",
       "1                           30                        99495   \n",
       "2                           30                       117560   \n",
       "3                           30                       125092   \n",
       "4                           30                       133175   \n",
       "\n",
       "   count_posting_replies  \n",
       "0                      1  \n",
       "1                      1  \n",
       "2                      1  \n",
       "3                      1  \n",
       "4                      1  "
      ]
     },
     "execution_count": 3,
     "metadata": {},
     "output_type": "execute_result"
    }
   ],
   "source": [
    "postings_replies.head()"
   ]
  },
  {
   "cell_type": "code",
   "execution_count": 4,
   "metadata": {},
   "outputs": [
    {
     "data": {
      "text/plain": [
       "1247835"
      ]
     },
     "execution_count": 4,
     "metadata": {},
     "output_type": "execute_result"
    }
   ],
   "source": [
    "len(postings_replies)"
   ]
  },
  {
   "cell_type": "code",
   "execution_count": 5,
   "metadata": {},
   "outputs": [
    {
     "data": {
      "text/plain": [
       "11292"
      ]
     },
     "execution_count": 5,
     "metadata": {},
     "output_type": "execute_result"
    }
   ],
   "source": [
    "len(np.unique(postings_replies['ID_CommunityIdentity_Source']))"
   ]
  },
  {
   "cell_type": "markdown",
   "metadata": {},
   "source": [
    "The dataset contains 1.2 million edges and 11.2 thousand nodes."
   ]
  },
  {
   "cell_type": "markdown",
   "metadata": {},
   "source": [
    "### Random sampling"
   ]
  },
  {
   "cell_type": "markdown",
   "metadata": {},
   "source": [
    "Tried random sampling, to subsample the graph which had imapct on the convergence rate of the algorithm. The convergence was slower as the sample got smaller:\n",
    "- with 5% of the data, algorithm converged after 6 iterations\n",
    "- with 10% of the data, algorithm converged after 5 iterations\n",
    "- with 20% of the data, algorithm converged after 5 iterations\n",
    "- with 50% of the data, algorithm converged after 4 iterations\n",
    "- with all data, algorithm converged after 4 iterations.\n",
    "\n",
    "It also influences the number of similar pairs found (given the similarity score of 0.8 or bigger), and the number of pairs decreases as the sample size increases. So with a larger graph we get fewer and fewer pairs which indicates that this algorithm is not very well suite for our task overall. Even with the smallest sample size, we get a very small detection of similarity and the similarity score values are low, we would like to see 0.9 scores ideally. "
   ]
  },
  {
   "cell_type": "code",
   "execution_count": null,
   "metadata": {},
   "outputs": [
    {
     "name": "stdout",
     "output_type": "stream",
     "text": [
      "Start iterating...\n",
      "Percent: [##############################] 100% Complete! \n",
      "Converged at iteration 6Size 0.05 took 8.340412676334381 minutes and found 1100 similar node pairs.\n",
      "Start iterating...\n",
      "Percent: [##############################] 100% Complete! \n",
      "Converged at iteration 5Size 0.1 took 9.864646609624227 minutes and found 748 similar node pairs.\n",
      "Start iterating...\n",
      "Percent: [##############################] 100% Complete! \n",
      "Converged at iteration 5Size 0.2 took 12.72212127049764 minutes and found 482 similar node pairs.\n",
      "Start iterating...\n",
      "Percent: [##############################] 100% Complete! \n",
      "Converged at iteration 4Size 0.5 took 12.333981005350749 minutes and found 280 similar node pairs.\n"
     ]
    }
   ],
   "source": [
    "import time\n",
    "sample_sizes = [0.05, 0.1, 0.2, 0.5]\n",
    "\n",
    "for s in sample_sizes:\n",
    "    start_time = time.time()\n",
    "    sr = SimRank.SimRank()\n",
    "    result = sr.fit(\n",
    "        postings_replies.sample(frac=s, random_state=123), \n",
    "        weighted = True, \n",
    "        from_node_column = 'ID_CommunityIdentity_Source', \n",
    "        to_node_column = 'ID_CommunityIdentity_Target',\n",
    "        weight_column = 'count_posting_replies')\n",
    "    n_pairs = get_n_pairs(result)\n",
    "    print(f\"Size {s} took {(time.time() - start_time) / 60} minutes and found {n_pairs} similar node pairs.\")"
   ]
  },
  {
   "cell_type": "markdown",
   "metadata": {},
   "source": [
    "### Weighted\n",
    "----\n",
    "In this version of the algorithm, the weights of the edges are taken into account."
   ]
  },
  {
   "cell_type": "code",
   "execution_count": 6,
   "metadata": {},
   "outputs": [
    {
     "name": "stdout",
     "output_type": "stream",
     "text": [
      "Start iterating...\n",
      "Percent: [##############################] 100% Complete! \n",
      "Converged at iteration 4"
     ]
    }
   ],
   "source": [
    "sr = SimRank.SimRank()\n",
    "sr_postings_replies = sr.fit(\n",
    "    postings_replies, \n",
    "    weighted = True, \n",
    "    from_node_column = 'ID_CommunityIdentity_Source', \n",
    "    to_node_column = 'ID_CommunityIdentity_Target',\n",
    "    weight_column = 'count_posting_replies')"
   ]
  },
  {
   "cell_type": "code",
   "execution_count": 10,
   "metadata": {},
   "outputs": [
    {
     "data": {
      "text/plain": [
       "(11643, 11643)"
      ]
     },
     "execution_count": 10,
     "metadata": {},
     "output_type": "execute_result"
    }
   ],
   "source": [
    "sr_postings_replies.shape"
   ]
  },
  {
   "cell_type": "code",
   "execution_count": 16,
   "metadata": {},
   "outputs": [
    {
     "data": {
      "text/plain": [
       "106"
      ]
     },
     "execution_count": 16,
     "metadata": {},
     "output_type": "execute_result"
    }
   ],
   "source": [
    "get_n_pairs(sr_postings_replies)"
   ]
  },
  {
   "cell_type": "markdown",
   "metadata": {},
   "source": [
    "Applying the SimRank to the weighted graph (no subsampling) produced only 106 node pairs with a similarity score larger than 0.8 (excluding the pairs when each node is paired with itself), which is still pretty low as we would be ideally looking for values around 0.9 which we do not obtain.  Therefore, this is a very poor performance as this is a very small portion of all the pairs in the resulting matrix."
   ]
  },
  {
   "cell_type": "markdown",
   "metadata": {},
   "source": [
    "### Unweighted\n",
    "----\n",
    "Computation on the full graph was computationally infeasible, thus we use the subsampling with 50% of the data."
   ]
  },
  {
   "cell_type": "code",
   "execution_count": 7,
   "metadata": {},
   "outputs": [
    {
     "name": "stdout",
     "output_type": "stream",
     "text": [
      "Start iterating...\n",
      "Percent: [##############################] 100% Complete! \n",
      "Converged at iteration 7"
     ]
    }
   ],
   "source": [
    "sr = SimRank.SimRank()\n",
    "sr_postings_replies_unweighted = sr.fit(\n",
    "    postings_replies.sample(frac=0.5, random_state=123), \n",
    "    weighted = False, \n",
    "    from_node_column = 'ID_CommunityIdentity_Source', \n",
    "    to_node_column = 'ID_CommunityIdentity_Target')"
   ]
  },
  {
   "cell_type": "code",
   "execution_count": 8,
   "metadata": {},
   "outputs": [
    {
     "data": {
      "text/html": [
       "<div>\n",
       "<style scoped>\n",
       "    .dataframe tbody tr th:only-of-type {\n",
       "        vertical-align: middle;\n",
       "    }\n",
       "\n",
       "    .dataframe tbody tr th {\n",
       "        vertical-align: top;\n",
       "    }\n",
       "\n",
       "    .dataframe thead th {\n",
       "        text-align: right;\n",
       "    }\n",
       "</style>\n",
       "<table border=\"1\" class=\"dataframe\">\n",
       "  <thead>\n",
       "    <tr style=\"text-align: right;\">\n",
       "      <th></th>\n",
       "      <th>589825</th>\n",
       "      <th>589828</th>\n",
       "      <th>4</th>\n",
       "      <th>524311</th>\n",
       "      <th>524312</th>\n",
       "      <th>196633</th>\n",
       "      <th>30</th>\n",
       "      <th>589854</th>\n",
       "      <th>196641</th>\n",
       "      <th>524324</th>\n",
       "      <th>...</th>\n",
       "      <th>589748</th>\n",
       "      <th>589751</th>\n",
       "      <th>589756</th>\n",
       "      <th>524227</th>\n",
       "      <th>589777</th>\n",
       "      <th>65490</th>\n",
       "      <th>524248</th>\n",
       "      <th>65505</th>\n",
       "      <th>524279</th>\n",
       "      <th>131065</th>\n",
       "    </tr>\n",
       "  </thead>\n",
       "  <tbody>\n",
       "    <tr>\n",
       "      <th>589825</th>\n",
       "      <td>1.000000</td>\n",
       "      <td>0.000896</td>\n",
       "      <td>0.001052</td>\n",
       "      <td>0.000930</td>\n",
       "      <td>0.000933</td>\n",
       "      <td>0.000909</td>\n",
       "      <td>0.000862</td>\n",
       "      <td>0.000850</td>\n",
       "      <td>0.000876</td>\n",
       "      <td>0.000963</td>\n",
       "      <td>...</td>\n",
       "      <td>0.001830</td>\n",
       "      <td>0.000934</td>\n",
       "      <td>0.000911</td>\n",
       "      <td>0.000898</td>\n",
       "      <td>0.000922</td>\n",
       "      <td>0.000901</td>\n",
       "      <td>0.0</td>\n",
       "      <td>0.000892</td>\n",
       "      <td>0.000910</td>\n",
       "      <td>0.000827</td>\n",
       "    </tr>\n",
       "    <tr>\n",
       "      <th>589828</th>\n",
       "      <td>0.000896</td>\n",
       "      <td>1.000000</td>\n",
       "      <td>0.000894</td>\n",
       "      <td>0.000885</td>\n",
       "      <td>0.000899</td>\n",
       "      <td>0.000891</td>\n",
       "      <td>0.000869</td>\n",
       "      <td>0.000878</td>\n",
       "      <td>0.000870</td>\n",
       "      <td>0.000897</td>\n",
       "      <td>...</td>\n",
       "      <td>0.000884</td>\n",
       "      <td>0.000879</td>\n",
       "      <td>0.000903</td>\n",
       "      <td>0.000874</td>\n",
       "      <td>0.000927</td>\n",
       "      <td>0.000889</td>\n",
       "      <td>0.0</td>\n",
       "      <td>0.000878</td>\n",
       "      <td>0.000887</td>\n",
       "      <td>0.000872</td>\n",
       "    </tr>\n",
       "    <tr>\n",
       "      <th>4</th>\n",
       "      <td>0.001052</td>\n",
       "      <td>0.000894</td>\n",
       "      <td>1.000000</td>\n",
       "      <td>0.000929</td>\n",
       "      <td>0.000919</td>\n",
       "      <td>0.000991</td>\n",
       "      <td>0.000863</td>\n",
       "      <td>0.000928</td>\n",
       "      <td>0.000930</td>\n",
       "      <td>0.000947</td>\n",
       "      <td>...</td>\n",
       "      <td>0.000944</td>\n",
       "      <td>0.000909</td>\n",
       "      <td>0.000916</td>\n",
       "      <td>0.000796</td>\n",
       "      <td>0.000924</td>\n",
       "      <td>0.000896</td>\n",
       "      <td>0.0</td>\n",
       "      <td>0.000938</td>\n",
       "      <td>0.000922</td>\n",
       "      <td>0.000806</td>\n",
       "    </tr>\n",
       "    <tr>\n",
       "      <th>524311</th>\n",
       "      <td>0.000930</td>\n",
       "      <td>0.000885</td>\n",
       "      <td>0.000929</td>\n",
       "      <td>1.000000</td>\n",
       "      <td>0.000889</td>\n",
       "      <td>0.000899</td>\n",
       "      <td>0.001167</td>\n",
       "      <td>0.000888</td>\n",
       "      <td>0.000958</td>\n",
       "      <td>0.000906</td>\n",
       "      <td>...</td>\n",
       "      <td>0.001184</td>\n",
       "      <td>0.001087</td>\n",
       "      <td>0.001375</td>\n",
       "      <td>0.000886</td>\n",
       "      <td>0.001113</td>\n",
       "      <td>0.001043</td>\n",
       "      <td>0.0</td>\n",
       "      <td>0.001149</td>\n",
       "      <td>0.001028</td>\n",
       "      <td>0.000920</td>\n",
       "    </tr>\n",
       "    <tr>\n",
       "      <th>524312</th>\n",
       "      <td>0.000933</td>\n",
       "      <td>0.000899</td>\n",
       "      <td>0.000919</td>\n",
       "      <td>0.000889</td>\n",
       "      <td>1.000000</td>\n",
       "      <td>0.000898</td>\n",
       "      <td>0.000870</td>\n",
       "      <td>0.000871</td>\n",
       "      <td>0.004873</td>\n",
       "      <td>0.000898</td>\n",
       "      <td>...</td>\n",
       "      <td>0.001234</td>\n",
       "      <td>0.000886</td>\n",
       "      <td>0.001517</td>\n",
       "      <td>0.000878</td>\n",
       "      <td>0.000896</td>\n",
       "      <td>0.000881</td>\n",
       "      <td>0.0</td>\n",
       "      <td>0.000881</td>\n",
       "      <td>0.001819</td>\n",
       "      <td>0.000901</td>\n",
       "    </tr>\n",
       "    <tr>\n",
       "      <th>...</th>\n",
       "      <td>...</td>\n",
       "      <td>...</td>\n",
       "      <td>...</td>\n",
       "      <td>...</td>\n",
       "      <td>...</td>\n",
       "      <td>...</td>\n",
       "      <td>...</td>\n",
       "      <td>...</td>\n",
       "      <td>...</td>\n",
       "      <td>...</td>\n",
       "      <td>...</td>\n",
       "      <td>...</td>\n",
       "      <td>...</td>\n",
       "      <td>...</td>\n",
       "      <td>...</td>\n",
       "      <td>...</td>\n",
       "      <td>...</td>\n",
       "      <td>...</td>\n",
       "      <td>...</td>\n",
       "      <td>...</td>\n",
       "      <td>...</td>\n",
       "    </tr>\n",
       "    <tr>\n",
       "      <th>65490</th>\n",
       "      <td>0.000901</td>\n",
       "      <td>0.000889</td>\n",
       "      <td>0.000896</td>\n",
       "      <td>0.001043</td>\n",
       "      <td>0.000881</td>\n",
       "      <td>0.000888</td>\n",
       "      <td>0.000870</td>\n",
       "      <td>0.002500</td>\n",
       "      <td>0.001886</td>\n",
       "      <td>0.000896</td>\n",
       "      <td>...</td>\n",
       "      <td>0.000975</td>\n",
       "      <td>0.001650</td>\n",
       "      <td>0.001304</td>\n",
       "      <td>0.000873</td>\n",
       "      <td>0.001253</td>\n",
       "      <td>1.000000</td>\n",
       "      <td>0.0</td>\n",
       "      <td>0.000883</td>\n",
       "      <td>0.001004</td>\n",
       "      <td>0.000929</td>\n",
       "    </tr>\n",
       "    <tr>\n",
       "      <th>524248</th>\n",
       "      <td>0.000000</td>\n",
       "      <td>0.000000</td>\n",
       "      <td>0.000000</td>\n",
       "      <td>0.000000</td>\n",
       "      <td>0.000000</td>\n",
       "      <td>0.000000</td>\n",
       "      <td>0.000000</td>\n",
       "      <td>0.000000</td>\n",
       "      <td>0.000000</td>\n",
       "      <td>0.000000</td>\n",
       "      <td>...</td>\n",
       "      <td>0.000000</td>\n",
       "      <td>0.000000</td>\n",
       "      <td>0.000000</td>\n",
       "      <td>0.000000</td>\n",
       "      <td>0.000000</td>\n",
       "      <td>0.000000</td>\n",
       "      <td>1.0</td>\n",
       "      <td>0.000000</td>\n",
       "      <td>0.000000</td>\n",
       "      <td>0.000000</td>\n",
       "    </tr>\n",
       "    <tr>\n",
       "      <th>65505</th>\n",
       "      <td>0.000892</td>\n",
       "      <td>0.000878</td>\n",
       "      <td>0.000938</td>\n",
       "      <td>0.001149</td>\n",
       "      <td>0.000881</td>\n",
       "      <td>0.000875</td>\n",
       "      <td>0.000867</td>\n",
       "      <td>0.001986</td>\n",
       "      <td>0.001210</td>\n",
       "      <td>0.000898</td>\n",
       "      <td>...</td>\n",
       "      <td>0.001130</td>\n",
       "      <td>0.001059</td>\n",
       "      <td>0.001392</td>\n",
       "      <td>0.000848</td>\n",
       "      <td>0.001188</td>\n",
       "      <td>0.000883</td>\n",
       "      <td>0.0</td>\n",
       "      <td>1.000000</td>\n",
       "      <td>0.001047</td>\n",
       "      <td>0.000930</td>\n",
       "    </tr>\n",
       "    <tr>\n",
       "      <th>524279</th>\n",
       "      <td>0.000910</td>\n",
       "      <td>0.000887</td>\n",
       "      <td>0.000922</td>\n",
       "      <td>0.001028</td>\n",
       "      <td>0.001819</td>\n",
       "      <td>0.000893</td>\n",
       "      <td>0.001334</td>\n",
       "      <td>0.001828</td>\n",
       "      <td>0.000868</td>\n",
       "      <td>0.000918</td>\n",
       "      <td>...</td>\n",
       "      <td>0.001251</td>\n",
       "      <td>0.001181</td>\n",
       "      <td>0.001229</td>\n",
       "      <td>0.000879</td>\n",
       "      <td>0.001227</td>\n",
       "      <td>0.001004</td>\n",
       "      <td>0.0</td>\n",
       "      <td>0.001047</td>\n",
       "      <td>1.000000</td>\n",
       "      <td>0.000902</td>\n",
       "    </tr>\n",
       "    <tr>\n",
       "      <th>131065</th>\n",
       "      <td>0.000827</td>\n",
       "      <td>0.000872</td>\n",
       "      <td>0.000806</td>\n",
       "      <td>0.000920</td>\n",
       "      <td>0.000901</td>\n",
       "      <td>0.000826</td>\n",
       "      <td>0.000880</td>\n",
       "      <td>0.000849</td>\n",
       "      <td>0.000868</td>\n",
       "      <td>0.001007</td>\n",
       "      <td>...</td>\n",
       "      <td>0.000901</td>\n",
       "      <td>0.000923</td>\n",
       "      <td>0.000906</td>\n",
       "      <td>0.000938</td>\n",
       "      <td>0.000935</td>\n",
       "      <td>0.000929</td>\n",
       "      <td>0.0</td>\n",
       "      <td>0.000930</td>\n",
       "      <td>0.000902</td>\n",
       "      <td>1.000000</td>\n",
       "    </tr>\n",
       "  </tbody>\n",
       "</table>\n",
       "<p>11344 rows × 11344 columns</p>\n",
       "</div>"
      ],
      "text/plain": [
       "          589825    589828    4         524311    524312    196633    30      \\\n",
       "589825  1.000000  0.000896  0.001052  0.000930  0.000933  0.000909  0.000862   \n",
       "589828  0.000896  1.000000  0.000894  0.000885  0.000899  0.000891  0.000869   \n",
       "4       0.001052  0.000894  1.000000  0.000929  0.000919  0.000991  0.000863   \n",
       "524311  0.000930  0.000885  0.000929  1.000000  0.000889  0.000899  0.001167   \n",
       "524312  0.000933  0.000899  0.000919  0.000889  1.000000  0.000898  0.000870   \n",
       "...          ...       ...       ...       ...       ...       ...       ...   \n",
       "65490   0.000901  0.000889  0.000896  0.001043  0.000881  0.000888  0.000870   \n",
       "524248  0.000000  0.000000  0.000000  0.000000  0.000000  0.000000  0.000000   \n",
       "65505   0.000892  0.000878  0.000938  0.001149  0.000881  0.000875  0.000867   \n",
       "524279  0.000910  0.000887  0.000922  0.001028  0.001819  0.000893  0.001334   \n",
       "131065  0.000827  0.000872  0.000806  0.000920  0.000901  0.000826  0.000880   \n",
       "\n",
       "          589854    196641    524324  ...    589748    589751    589756  \\\n",
       "589825  0.000850  0.000876  0.000963  ...  0.001830  0.000934  0.000911   \n",
       "589828  0.000878  0.000870  0.000897  ...  0.000884  0.000879  0.000903   \n",
       "4       0.000928  0.000930  0.000947  ...  0.000944  0.000909  0.000916   \n",
       "524311  0.000888  0.000958  0.000906  ...  0.001184  0.001087  0.001375   \n",
       "524312  0.000871  0.004873  0.000898  ...  0.001234  0.000886  0.001517   \n",
       "...          ...       ...       ...  ...       ...       ...       ...   \n",
       "65490   0.002500  0.001886  0.000896  ...  0.000975  0.001650  0.001304   \n",
       "524248  0.000000  0.000000  0.000000  ...  0.000000  0.000000  0.000000   \n",
       "65505   0.001986  0.001210  0.000898  ...  0.001130  0.001059  0.001392   \n",
       "524279  0.001828  0.000868  0.000918  ...  0.001251  0.001181  0.001229   \n",
       "131065  0.000849  0.000868  0.001007  ...  0.000901  0.000923  0.000906   \n",
       "\n",
       "          524227    589777    65490   524248    65505     524279    131065  \n",
       "589825  0.000898  0.000922  0.000901     0.0  0.000892  0.000910  0.000827  \n",
       "589828  0.000874  0.000927  0.000889     0.0  0.000878  0.000887  0.000872  \n",
       "4       0.000796  0.000924  0.000896     0.0  0.000938  0.000922  0.000806  \n",
       "524311  0.000886  0.001113  0.001043     0.0  0.001149  0.001028  0.000920  \n",
       "524312  0.000878  0.000896  0.000881     0.0  0.000881  0.001819  0.000901  \n",
       "...          ...       ...       ...     ...       ...       ...       ...  \n",
       "65490   0.000873  0.001253  1.000000     0.0  0.000883  0.001004  0.000929  \n",
       "524248  0.000000  0.000000  0.000000     1.0  0.000000  0.000000  0.000000  \n",
       "65505   0.000848  0.001188  0.000883     0.0  1.000000  0.001047  0.000930  \n",
       "524279  0.000879  0.001227  0.001004     0.0  0.001047  1.000000  0.000902  \n",
       "131065  0.000938  0.000935  0.000929     0.0  0.000930  0.000902  1.000000  \n",
       "\n",
       "[11344 rows x 11344 columns]"
      ]
     },
     "execution_count": 8,
     "metadata": {},
     "output_type": "execute_result"
    }
   ],
   "source": [
    "sr_postings_replies_unweighted"
   ]
  },
  {
   "cell_type": "code",
   "execution_count": 19,
   "metadata": {},
   "outputs": [],
   "source": [
    "sr_postings_replies_unweighted.columns = sr_postings_replies_unweighted.columns.astype(str)\n",
    "sr_postings_replies_unweighted.to_parquet('output/sr_postings_replies_unweighted.parquet')"
   ]
  },
  {
   "cell_type": "code",
   "execution_count": 11,
   "metadata": {},
   "outputs": [
    {
     "data": {
      "text/plain": [
       "296"
      ]
     },
     "execution_count": 11,
     "metadata": {},
     "output_type": "execute_result"
    }
   ],
   "source": [
    "get_n_pairs(sr_postings_replies_unweighted)"
   ]
  },
  {
   "cell_type": "markdown",
   "metadata": {},
   "source": [
    "Again, the amount of identified similar pairs is very low."
   ]
  },
  {
   "cell_type": "markdown",
   "metadata": {},
   "source": [
    "### Find the most similar node for each node"
   ]
  },
  {
   "cell_type": "code",
   "execution_count": 16,
   "metadata": {},
   "outputs": [],
   "source": [
    "np.fill_diagonal(sr_postings_replies_unweighted.values, 0)"
   ]
  },
  {
   "cell_type": "code",
   "execution_count": 15,
   "metadata": {},
   "outputs": [
    {
     "data": {
      "text/plain": [
       "589825     31975\n",
       "589828    575780\n",
       "4          58571\n",
       "524311    322433\n",
       "524312     79981\n",
       "           ...  \n",
       "65490     208548\n",
       "524248    589825\n",
       "65505     248509\n",
       "524279    580202\n",
       "131065    502653\n",
       "Length: 11344, dtype: int64"
      ]
     },
     "execution_count": 15,
     "metadata": {},
     "output_type": "execute_result"
    }
   ],
   "source": [
    "sr_postings_replies_unweighted.idxmax()"
   ]
  },
  {
   "cell_type": "markdown",
   "metadata": {},
   "source": [
    "We could instead aim to capture the most similar node for each node, eventhough the scores are very low, likely not representing much of a similarity at all."
   ]
  },
  {
   "cell_type": "markdown",
   "metadata": {},
   "source": [
    "## Votes to Postings"
   ]
  },
  {
   "cell_type": "code",
   "execution_count": 3,
   "metadata": {},
   "outputs": [],
   "source": [
    "votes_postings = pd.read_parquet('data/df_edge_list_directed_users_votes_to_postings_net.parquet')"
   ]
  },
  {
   "cell_type": "code",
   "execution_count": 21,
   "metadata": {},
   "outputs": [
    {
     "data": {
      "text/html": [
       "<div>\n",
       "<style scoped>\n",
       "    .dataframe tbody tr th:only-of-type {\n",
       "        vertical-align: middle;\n",
       "    }\n",
       "\n",
       "    .dataframe tbody tr th {\n",
       "        vertical-align: top;\n",
       "    }\n",
       "\n",
       "    .dataframe thead th {\n",
       "        text-align: right;\n",
       "    }\n",
       "</style>\n",
       "<table border=\"1\" class=\"dataframe\">\n",
       "  <thead>\n",
       "    <tr style=\"text-align: right;\">\n",
       "      <th></th>\n",
       "      <th>ID_CommunityIdentity_Source</th>\n",
       "      <th>ID_CommunityIdentity_Target</th>\n",
       "      <th>count_votes_to_postings_net</th>\n",
       "    </tr>\n",
       "  </thead>\n",
       "  <tbody>\n",
       "    <tr>\n",
       "      <th>0</th>\n",
       "      <td>4</td>\n",
       "      <td>6293</td>\n",
       "      <td>1</td>\n",
       "    </tr>\n",
       "    <tr>\n",
       "      <th>1</th>\n",
       "      <td>4</td>\n",
       "      <td>8008</td>\n",
       "      <td>1</td>\n",
       "    </tr>\n",
       "    <tr>\n",
       "      <th>2</th>\n",
       "      <td>4</td>\n",
       "      <td>9525</td>\n",
       "      <td>1</td>\n",
       "    </tr>\n",
       "    <tr>\n",
       "      <th>3</th>\n",
       "      <td>4</td>\n",
       "      <td>18764</td>\n",
       "      <td>1</td>\n",
       "    </tr>\n",
       "    <tr>\n",
       "      <th>4</th>\n",
       "      <td>4</td>\n",
       "      <td>22470</td>\n",
       "      <td>1</td>\n",
       "    </tr>\n",
       "  </tbody>\n",
       "</table>\n",
       "</div>"
      ],
      "text/plain": [
       "   ID_CommunityIdentity_Source  ID_CommunityIdentity_Target  \\\n",
       "0                            4                         6293   \n",
       "1                            4                         8008   \n",
       "2                            4                         9525   \n",
       "3                            4                        18764   \n",
       "4                            4                        22470   \n",
       "\n",
       "   count_votes_to_postings_net  \n",
       "0                            1  \n",
       "1                            1  \n",
       "2                            1  \n",
       "3                            1  \n",
       "4                            1  "
      ]
     },
     "execution_count": 21,
     "metadata": {},
     "output_type": "execute_result"
    }
   ],
   "source": [
    "votes_postings.head()"
   ]
  },
  {
   "cell_type": "code",
   "execution_count": 22,
   "metadata": {},
   "outputs": [
    {
     "data": {
      "text/plain": [
       "6105250"
      ]
     },
     "execution_count": 22,
     "metadata": {},
     "output_type": "execute_result"
    }
   ],
   "source": [
    "len(votes_postings)"
   ]
  },
  {
   "cell_type": "code",
   "execution_count": 23,
   "metadata": {},
   "outputs": [
    {
     "data": {
      "text/plain": [
       "12351"
      ]
     },
     "execution_count": 23,
     "metadata": {},
     "output_type": "execute_result"
    }
   ],
   "source": [
    "len(np.unique(votes_postings['ID_CommunityIdentity_Source']))"
   ]
  },
  {
   "cell_type": "code",
   "execution_count": 5,
   "metadata": {},
   "outputs": [
    {
     "name": "stdout",
     "output_type": "stream",
     "text": [
      "Start iterating...\n",
      "Percent: [##############################] 100% Complete! \n",
      "Converged at iteration 4"
     ]
    }
   ],
   "source": [
    "sr = SimRank.SimRank()\n",
    "sr_votes_postings = sr.fit(\n",
    "    votes_postings.sample(frac=0.5, random_state=123), \n",
    "    weighted = True, \n",
    "    from_node_column = 'ID_CommunityIdentity_Source', \n",
    "    to_node_column = 'ID_CommunityIdentity_Target',\n",
    "    weight_column = 'count_votes_to_postings_net')"
   ]
  },
  {
   "cell_type": "code",
   "execution_count": 7,
   "metadata": {},
   "outputs": [],
   "source": [
    "sr_votes_postings.columns = sr_votes_postings.columns.astype(str)\n",
    "sr_votes_postings.to_parquet('output/sr_votes_postings.parquet')"
   ]
  },
  {
   "cell_type": "code",
   "execution_count": 10,
   "metadata": {},
   "outputs": [
    {
     "data": {
      "text/plain": [
       "16"
      ]
     },
     "execution_count": 10,
     "metadata": {},
     "output_type": "execute_result"
    }
   ],
   "source": [
    "get_n_pairs(sr_votes_postings)"
   ]
  },
  {
   "cell_type": "code",
   "execution_count": 4,
   "metadata": {},
   "outputs": [
    {
     "name": "stdout",
     "output_type": "stream",
     "text": [
      "Start iterating...\n",
      "Percent: [##############################] 100% Complete! \n",
      "Converged at iteration 5"
     ]
    }
   ],
   "source": [
    "sr = SimRank.SimRank()\n",
    "sr_votes_postings_unweighted = sr.fit(\n",
    "    votes_postings.sample(frac=0.2, random_state=123), \n",
    "    weighted = False, \n",
    "    from_node_column = 'ID_CommunityIdentity_Source', \n",
    "    to_node_column = 'ID_CommunityIdentity_Target')"
   ]
  },
  {
   "cell_type": "code",
   "execution_count": 5,
   "metadata": {},
   "outputs": [],
   "source": [
    "sr_votes_postings_unweighted.columns = sr_votes_postings_unweighted.columns.astype(str)\n",
    "sr_votes_postings_unweighted.to_parquet('output/sr_votes_postings_unweighted.parquet')"
   ]
  },
  {
   "cell_type": "code",
   "execution_count": 6,
   "metadata": {},
   "outputs": [
    {
     "data": {
      "text/plain": [
       "56"
      ]
     },
     "execution_count": 6,
     "metadata": {},
     "output_type": "execute_result"
    }
   ],
   "source": [
    "get_n_pairs(sr_votes_postings_unweighted)"
   ]
  },
  {
   "cell_type": "markdown",
   "metadata": {},
   "source": [
    "Since the graph capturing the votes is three times larger than the reviews one, we opt to subsample 50% of the edges for the weighted case, and 20% for the unweighted case to be able to compute at least a portion of the similarity matrix. Again, the results are very unsatisfactory and even worse than in the previous graph."
   ]
  }
 ],
 "metadata": {
  "kernelspec": {
   "display_name": "pandas-old",
   "language": "python",
   "name": "python3"
  },
  "language_info": {
   "codemirror_mode": {
    "name": "ipython",
    "version": 3
   },
   "file_extension": ".py",
   "mimetype": "text/x-python",
   "name": "python",
   "nbconvert_exporter": "python",
   "pygments_lexer": "ipython3",
   "version": "3.8.20"
  }
 },
 "nbformat": 4,
 "nbformat_minor": 2
}
