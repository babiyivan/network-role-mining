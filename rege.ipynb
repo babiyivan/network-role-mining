{
 "cells": [
  {
   "cell_type": "markdown",
   "id": "712987fd",
   "metadata": {},
   "source": [
    "# REGE\n",
    "\n",
    "Since the computation of REGE is heavy, this notebook is run only when a new similarity matrix from a new subgraph should be generated. "
   ]
  },
  {
   "cell_type": "code",
   "execution_count": 7,
   "id": "e5a74efc",
   "metadata": {
    "vscode": {
     "languageId": "r"
    }
   },
   "outputs": [],
   "source": [
    "libs <- c(\n",
    "  \"dplyr\",\n",
    "  \"igraph\",\n",
    "  \"blockmodeling\"\n",
    ")\n",
    "new.packages <- libs[!(libs %in% installed.packages()[,\"Package\"])]\n",
    "if(length(new.packages)) install.packages(new.packages)\n",
    "invisible(lapply(libs, library, character.only = TRUE))"
   ]
  },
  {
   "cell_type": "markdown",
   "id": "30c34044",
   "metadata": {},
   "source": [
    "### Read subgraphs\n",
    "\n",
    "Subgraphs are extracted for a detected community from each graph type on `replies`, `votes` and `follows` through `extract_subgraph.ipynb`. The three extracted subgraphs consist of the same node set , and differ by the edges. The size of this community is constrained by the computational power we have. "
   ]
  },
  {
   "cell_type": "code",
   "execution_count": 5,
   "id": "83f9f18c",
   "metadata": {
    "vscode": {
     "languageId": "r"
    }
   },
   "outputs": [],
   "source": [
    "n <- 253\n",
    "\n",
    "g_replies <- read_graph(paste0(\"graphs/replies-\",n,\".graphml\"), format = \"graphml\")\n",
    "g_votes <- read_graph(paste0(\"graphs/votes-\",n,\".graphml\"), format = \"graphml\")\n",
    "g_follows <- read_graph(paste0(\"graphs/follows-\",n,\".graphml\"), format = \"graphml\")\n",
    "\n",
    "gs <- list(replies = g_replies, votes = g_votes, follows = g_follows)"
   ]
  },
  {
   "cell_type": "code",
   "execution_count": 6,
   "id": "5bd0d3d6",
   "metadata": {
    "vscode": {
     "languageId": "r"
    }
   },
   "outputs": [
    {
     "data": {
      "text/html": [
       "<table class=\"dataframe\">\n",
       "<caption>A data.frame: 3 × 3</caption>\n",
       "<thead>\n",
       "\t<tr><th scope=col>type</th><th scope=col>nodes</th><th scope=col>edges</th></tr>\n",
       "\t<tr><th scope=col>&lt;chr&gt;</th><th scope=col>&lt;dbl&gt;</th><th scope=col>&lt;dbl&gt;</th></tr>\n",
       "</thead>\n",
       "<tbody>\n",
       "\t<tr><td>replies</td><td>253</td><td>1905</td></tr>\n",
       "\t<tr><td>votes  </td><td>253</td><td>6905</td></tr>\n",
       "\t<tr><td>follows</td><td>253</td><td> 436</td></tr>\n",
       "</tbody>\n",
       "</table>\n"
      ],
      "text/latex": [
       "A data.frame: 3 × 3\n",
       "\\begin{tabular}{lll}\n",
       " type & nodes & edges\\\\\n",
       " <chr> & <dbl> & <dbl>\\\\\n",
       "\\hline\n",
       "\t replies & 253 & 1905\\\\\n",
       "\t votes   & 253 & 6905\\\\\n",
       "\t follows & 253 &  436\\\\\n",
       "\\end{tabular}\n"
      ],
      "text/markdown": [
       "\n",
       "A data.frame: 3 × 3\n",
       "\n",
       "| type &lt;chr&gt; | nodes &lt;dbl&gt; | edges &lt;dbl&gt; |\n",
       "|---|---|---|\n",
       "| replies | 253 | 1905 |\n",
       "| votes   | 253 | 6905 |\n",
       "| follows | 253 |  436 |\n",
       "\n"
      ],
      "text/plain": [
       "  type    nodes edges\n",
       "1 replies 253   1905 \n",
       "2 votes   253   6905 \n",
       "3 follows 253    436 "
      ]
     },
     "metadata": {},
     "output_type": "display_data"
    }
   ],
   "source": [
    "info <- data.frame(type = c(\"replies\", \"votes\", \"follows\"),\n",
    "                   nodes = c(vcount(g_replies), vcount(g_votes), vcount(g_follows)),\n",
    "                   edges = c(ecount(g_replies), ecount(g_votes), ecount(g_follows)))\n",
    "info"
   ]
  },
  {
   "cell_type": "markdown",
   "id": "aacf69e9",
   "metadata": {},
   "source": [
    "## Classic REGE"
   ]
  },
  {
   "cell_type": "code",
   "execution_count": null,
   "id": "26ef3e67",
   "metadata": {
    "vscode": {
     "languageId": "r"
    }
   },
   "outputs": [],
   "source": [
    "iter=3\n",
    "n <- vcount(g_replies)\n",
    "results <- list()    \n",
    "\n",
    "for (type in c(\"replies\", \"votes\", \"follows\")) {\n",
    "\n",
    "  # REGE takes input in the format of an adjacency matrix\n",
    "  # g <- get(paste0(\"g_\", type))\n",
    "  M <- as_adjacency_matrix(gs[[type]], sparse = FALSE)\n",
    "\n",
    "  # Default iteration = 3 and initial similarity = 1 to follow the literature \n",
    "  results[[type]] <- REGE(M=M, iter=iter)$E\n",
    "  saveRDS(results, file=paste0(\"results/rege-\", type, \"-\", n, \".rds\"))\n",
    "}\n"
   ]
  }
 ],
 "metadata": {
  "jupytext": {
   "cell_metadata_filter": "-all",
   "main_language": "R",
   "notebook_metadata_filter": "-all"
  },
  "kernelspec": {
   "display_name": "R",
   "language": "R",
   "name": "ir"
  },
  "language_info": {
   "codemirror_mode": "r",
   "file_extension": ".r",
   "mimetype": "text/x-r-source",
   "name": "R",
   "pygments_lexer": "r",
   "version": "4.3.3"
  }
 },
 "nbformat": 4,
 "nbformat_minor": 5
}
