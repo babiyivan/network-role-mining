{
 "cells": [
  {
   "cell_type": "markdown",
   "id": "712987fd",
   "metadata": {},
   "source": [
    "# REGE\n",
    "\n",
    "cite:REGE"
   ]
  },
  {
   "cell_type": "code",
   "execution_count": 1,
   "id": "e5a74efc",
   "metadata": {
    "vscode": {
     "languageId": "r"
    }
   },
   "outputs": [
    {
     "ename": "ERROR",
     "evalue": "Error in c(\"dplyr\", \"igraph\", \"blockmodeling\", ): argument 4 is empty\n",
     "output_type": "error",
     "traceback": [
      "Error in c(\"dplyr\", \"igraph\", \"blockmodeling\", ): argument 4 is empty\nTraceback:\n"
     ]
    }
   ],
   "source": [
    "libs <- c(\n",
    "  \"dplyr\",\n",
    "  \"igraph\",\n",
    "  \"blockmodeling\"\n",
    ")\n",
    "new.packages <- libs[!(libs %in% installed.packages()[,\"Package\"])]\n",
    "if(length(new.packages)) install.packages(new.packages)\n",
    "invisible(lapply(libs, library, character.only = TRUE))"
   ]
  },
  {
   "cell_type": "markdown",
   "id": "39d08375",
   "metadata": {},
   "source": [
    "## Read subgraphs used in the analysis\n",
    "\n",
    "Graph is extracted through extract_subgraph.ipynb. The subgraphs used for each type of `replies`, `votes` and `follows` are hence composed on the same set of nodes. The graphs differ by the edges."
   ]
  },
  {
   "cell_type": "code",
   "execution_count": null,
   "id": "83f9f18c",
   "metadata": {
    "vscode": {
     "languageId": "r"
    }
   },
   "outputs": [],
   "source": [
    "g_replies <- read_graph(\"graphs/replies-202.graphml\", format = \"graphml\")\n",
    "g_votes <- read_graph(\"graphs/votes-202.graphml\", format = \"graphml\")\n",
    "g_follows <- read_graph(\"graphs/follows-202.graphml\", format = \"graphml\")\n",
    "\n",
    "gs <- list(replies = g_replies, votes = g_votes, follows = g_follows)"
   ]
  },
  {
   "cell_type": "code",
   "execution_count": null,
   "id": "5bd0d3d6",
   "metadata": {
    "vscode": {
     "languageId": "r"
    }
   },
   "outputs": [],
   "source": [
    "info <- data.frame(type = c(\"replies\", \"votes\", \"follows\"),\n",
    "                   nodes = c(vcount(g_replies), vcount(g_votes), vcount(g_follows)),\n",
    "                   edges = c(ecount(g_replies), ecount(g_votes), ecount(g_follows)))\n",
    "info"
   ]
  },
  {
   "cell_type": "markdown",
   "id": "aacf69e9",
   "metadata": {},
   "source": [
    "## Similarities with Classic REGE\n",
    "\n",
    "Note: REGE algorithm is heavy in computing the similiarity score over each node pair. For demonstration purpose, one can change the iteration number to 1."
   ]
  },
  {
   "cell_type": "code",
   "execution_count": null,
   "id": "26ef3e67",
   "metadata": {
    "vscode": {
     "languageId": "r"
    }
   },
   "outputs": [],
   "source": [
    "iter=3\n",
    "n <- vcount(g_replies)\n",
    "results <- list()    \n",
    "\n",
    "for (type in c(\"replies\", \"votes\", \"follows\")) {\n",
    "\n",
    "  # REGE takes input in the format of an adjacency matrix\n",
    "  # g <- get(paste0(\"g_\", type))\n",
    "  M <- as_adjacency_matrix(gs[[type]], sparse = FALSE)\n",
    "\n",
    "  # Default iteration = 3 and initial similarity = 1 to follow the literature \n",
    "  results[[type]] <- REGE(M=M, iter=iter)$E\n",
    "  saveRDS(results, file=paste0(\"results/rege-\", type, \"-\", n, \".rds\"))\n",
    "}\n"
   ]
  },
  {
   "cell_type": "code",
   "execution_count": null,
   "id": "8218acb2",
   "metadata": {
    "vscode": {
     "languageId": "r"
    }
   },
   "outputs": [],
   "source": [
    "res <- list()\n",
    "output <- readRDS(\"results/rege/rege-202.rds\")\n",
    "res[[\"replies\"]][[\"sim\"]] = output[[\"replies\"]]\n",
    "res[[\"votes\"]][[\"sim\"]]  = output[[\"votes\"]]\n",
    "res[[\"follows\"]][[\"sim\"]]  = output[[\"follows\"]]"
   ]
  },
  {
   "cell_type": "markdown",
   "id": "7b5c31ff",
   "metadata": {},
   "source": [
    "## Clustering on resulting similarity matrices\n",
    "\n",
    "Hierarchical clustering is used. Number of clusters with maximum average silhouette width is used as the optimal number of roles."
   ]
  },
  {
   "cell_type": "code",
   "execution_count": null,
   "id": "12240753",
   "metadata": {
    "lines_to_next_cell": 2,
    "vscode": {
     "languageId": "r"
    }
   },
   "outputs": [],
   "source": [
    "library(cluster)\n",
    "\n",
    "for (type in c(\"replies\", \"votes\", \"follows\")) {\n",
    "\n",
    "  d <- as.dist(1-res[[type]][[\"sim\"]])\n",
    "    \n",
    "  k <- c(2:10)\n",
    "  width_hc <- rep(NA,length(k))\n",
    "  res_hc <- hclust(d, method=\"ward.D2\")\n",
    "  \n",
    "  # png(paste0(\"results/rege/dendrogram-\", type, \".png\")) # output plot to file\n",
    "  plot(res_hc, main=\"Hierarchical clustering dendrogram\", xlab=\"nodes\", cex=0.5)\n",
    "  # dev.off()\n",
    "\n",
    "  for (i in 1:length(k)){\n",
    "    ass_hc = cutree(res_hc,k=k[i])\n",
    "    sil <- silhouette(ass_hc,d)\n",
    "    width_hc[i] <- summary(sil)$avg.width\n",
    "  }\n",
    "  \n",
    "  df <- data.frame(x = k, y = width_hc)\n",
    "  p <- ggplot(df, aes(x = x, y = y)) +\n",
    "    geom_line() +\n",
    "    geom_point() +\n",
    "    labs(\n",
    "      title = paste0(\"Average silhouette width for \", type),\n",
    "      x = \"role size choice\",\n",
    "      y = \"Average silhouette width\") +\n",
    "    theme_minimal()\n",
    "  # ggsave(paste0(\"results/rege/silhouette-\", type, \".svg\"))\n",
    "  print(p)\n",
    "  \n",
    "  optimk <- which.max(width_hc)+1\n",
    "  paste0(\"Best silhouette width for\", type, \"at role number k=\", optimk)\n",
    "  \n",
    "  # store clustering result\n",
    "  res[[type]][[\"optimk\"]] <- optimk\n",
    "  res[[type]][[\"membership\"]] <- cutree(res_hc, k=optimk)\n",
    "  res[[type]][[\"properties\"]] <- data.frame(node_id=names(res[[type]][[\"membership\"]]), roles=unlist(res[[type]][[\"membership\"]])) \n",
    "  \n",
    "  # update role assignment to graph\n",
    "  gs[[type]] <- set_vertex_attr(gs[[type]], name=\"role\", value = res[[type]][[\"membership\"]])\n",
    "  \n",
    "  # partitioned matrix\n",
    "  M <- as_adjacency_matrix(gs[[type]], sparse = FALSE)\n",
    "  res[[type]][[\"partition\"]] <- plot.mat(M, clu = res[[type]][[\"membership\"]], main=paste(\"Partitioned matrix for\", type))\n",
    "}"
   ]
  },
  {
   "cell_type": "markdown",
   "id": "2cc85921",
   "metadata": {},
   "source": [
    "## Role distribution"
   ]
  },
  {
   "cell_type": "code",
   "execution_count": null,
   "id": "87ab4b21",
   "metadata": {
    "vscode": {
     "languageId": "r"
    }
   },
   "outputs": [],
   "source": [
    "library(ggplot2)\n",
    "for (type in c(\"replies\", \"votes\", \"follows\")) {\n",
    "  g<- ggplot(res[[type]][[\"properties\"]], aes(x = factor(roles))) +\n",
    "  geom_bar(width=0.6) +\n",
    "  labs(title = paste(\"Role membership distribution for\", type), x = \"Role\", y = \"Count\") +\n",
    "  theme_minimal() \n",
    "  # ggsave(paste0(\"results/rege/histogram-\", type, \".svg\")) # output plot to file\n",
    "  print(g)\n",
    "}"
   ]
  },
  {
   "cell_type": "markdown",
   "id": "49eb750c",
   "metadata": {},
   "source": [
    "## Role membership in the graph"
   ]
  },
  {
   "cell_type": "code",
   "execution_count": null,
   "id": "e0c287b6",
   "metadata": {
    "vscode": {
     "languageId": "r"
    }
   },
   "outputs": [],
   "source": [
    "palette=categorical_pal(8)\n",
    "\n",
    "for (type in c(\"replies\", \"votes\", \"follows\")) {\n",
    "  # g <- get(paste0(\"g_\", type))\n",
    "  # V(g)$role <- res[[type]][[\"membership\"]]\n",
    "  \n",
    "  # png(paste0(\"results/rege/graph-\", type, \".png\")) # output plot to file\n",
    "  plot.igraph(gs[[type]], layout=layout_with_kk(gs[[type]]), main=paste(\"Graph for\",type),\n",
    "              vertex.color=V(gs[[type]])$role, palette=palette, vertex.label.cex=0.4, vertex.size=7, edge.arrow.size=0.1) \n",
    "  legend(\"topright\", legend = levels(factor(V(gs[[type]])$role)), fill = palette, title = \"role\")\n",
    "  # dev.off()\n",
    "}"
   ]
  },
  {
   "cell_type": "markdown",
   "id": "42e8b1f5",
   "metadata": {},
   "source": [
    "## Role properties and interpretation for each type"
   ]
  },
  {
   "cell_type": "code",
   "execution_count": null,
   "id": "7670dd94",
   "metadata": {
    "lines_to_next_cell": 2,
    "vscode": {
     "languageId": "r"
    }
   },
   "outputs": [],
   "source": [
    "library(GGally)\n",
    "\n",
    "\n",
    "for (type in c(\"replies\", \"votes\", \"follows\")) {\n",
    "  res[[type]][[\"properties\"]] <-  res[[type]][[\"properties\"]] %>% \n",
    "    mutate(\n",
    "      in_degree = as.vector(degree(gs[[type]], mode = \"in\")),\n",
    "      out_degree = as.vector(degree(gs[[type]], mode = \"out\")),\n",
    "      total_degree = as.vector(degree(gs[[type]], mode = \"total\")),\n",
    "      betweenness = as.vector(betweenness(gs[[type]])),\n",
    "      eigenvector = as.vector(eigen_centrality(gs[[type]])$vector)\n",
    "    )\n",
    "  \n",
    "  x = paste('group_', type, sep='')\n",
    "  for (col in c('in_degree', 'out_degree', 'total_degree', 'betweenness', 'eigenvector')) {\n",
    "    p = ggplot(res[[type]][[\"properties\"]], aes(x = as.factor(roles), y = .data[[col]])) +\n",
    "      geom_boxplot() +\n",
    "      labs(\n",
    "        title = paste('Boxplot of', col, 'by group in', type, 'graph'),\n",
    "        x = 'Group',\n",
    "        y = col\n",
    "      ) +\n",
    "      theme_minimal() +\n",
    "      theme(axis.text.x = element_text(angle = 90, hjust = 1))\n",
    "    print(p)\n",
    "    # ggsave(paste('results/bm/', type, '-', col, '.svg', sep=''))\n",
    "  }\n",
    "  \n",
    "  \n",
    "  df <- res[[type]][[\"properties\"]] %>%\n",
    "    group_by(roles) %>%\n",
    "    summarise(\n",
    "      in_degree = mean(in_degree),\n",
    "      out_degree = mean(out_degree),\n",
    "      total_degree = mean(total_degree),\n",
    "      betweenness = mean(betweenness),\n",
    "      eigenvector = mean(eigenvector)\n",
    "    ) %>%\n",
    "    mutate(roles = as.factor(roles))\n",
    "\n",
    "  \n",
    "  p <- ggparcoord(data=df, columns=2:6, groupColumn=1) +\n",
    "    theme_minimal() +\n",
    "    labs(title=paste(\"Parallel coordinates for\", type)) +\n",
    "    scale_color_manual(values=palette)\n",
    "  \n",
    "  print(p)\n",
    "\n",
    "}"
   ]
  },
  {
   "cell_type": "code",
   "execution_count": null,
   "id": "f239c3f3",
   "metadata": {
    "vscode": {
     "languageId": "r"
    }
   },
   "outputs": [],
   "source": [
    "combined <- merge(\n",
    "  merge(res[[\"replies\"]][[\"properties\"]][, c(\"node_id\", \"roles\")], res[[\"votes\"]][[\"properties\"]][, c(\"node_id\", \"roles\")], by = \"node_id\", suffixes = c(\"_replies\", \"_votes\")),\n",
    "  res[[\"follows\"]][[\"properties\"]][, c(\"node_id\", \"roles\")], by = \"node_id\") %>%\n",
    "  rename(roles_follows = roles) \n",
    "str(combined)"
   ]
  },
  {
   "cell_type": "markdown",
   "id": "42fecd6f",
   "metadata": {
    "lines_to_next_cell": 0
   },
   "source": [
    "Number of unique combinations of roles across the three type is "
   ]
  },
  {
   "cell_type": "code",
   "execution_count": null,
   "id": "f07f0a68",
   "metadata": {
    "lines_to_next_cell": 2,
    "vscode": {
     "languageId": "r"
    }
   },
   "outputs": [],
   "source": [
    "unique(combined[, c(\"roles_replies\", \"roles_votes\", \"roles_follows\")])\n",
    "\n",
    "combined %>%\n",
    "  group_by(roles_replies, roles_votes, roles_follows) %>%\n",
    "  summarise(frequency = n(), .groups = \"drop\") %>%\n",
    "  arrange(desc(frequency))\n"
   ]
  },
  {
   "cell_type": "markdown",
   "id": "7305f44a",
   "metadata": {},
   "source": [
    "Note: to convert to .ipynb, run `jupytext --to ipynb rege.Rmd` / `jupytext --to ipynb rege.Rmd`."
   ]
  }
 ],
 "metadata": {
  "jupytext": {
   "cell_metadata_filter": "-all",
   "main_language": "R",
   "notebook_metadata_filter": "-all"
  },
  "kernelspec": {
   "display_name": "R",
   "language": "R",
   "name": "ir"
  },
  "language_info": {
   "codemirror_mode": "r",
   "file_extension": ".r",
   "mimetype": "text/x-r-source",
   "name": "R",
   "pygments_lexer": "r",
   "version": "4.4.2"
  }
 },
 "nbformat": 4,
 "nbformat_minor": 5
}
