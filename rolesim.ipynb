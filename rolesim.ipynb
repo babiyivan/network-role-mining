{
 "cells": [
  {
   "cell_type": "markdown",
   "metadata": {},
   "source": [
    "# RoleSim\n",
    "----\n",
    "Similarity measure from the **automorphic** equivalence family."
   ]
  },
  {
   "cell_type": "code",
   "execution_count": 13,
   "metadata": {},
   "outputs": [],
   "source": [
    "import pandas as pd\n",
    "import networkx as nx\n",
    "import numpy as np\n",
    "import time\n",
    "from itertools import combinations\n",
    "from networkx.algorithms.matching import max_weight_matching\n",
    "import itertools\n",
    "\n",
    "from RoleSim.RoleSim import *"
   ]
  },
  {
   "cell_type": "code",
   "execution_count": 14,
   "metadata": {},
   "outputs": [
    {
     "name": "stdout",
     "output_type": "stream",
     "text": [
      "Number of nodes: 276\n",
      "Number of edges: 880\n"
     ]
    }
   ],
   "source": [
    "# Load the directed graph from the GraphML file\n",
    "directed_graph = nx.read_graphml('graphs/replies-276.graphml')\n",
    "# Convert the graph to an undirected graph\n",
    "actual_data_graph = directed_graph.to_undirected()\n",
    "# Remove any isolates (nodes with no edges)\n",
    "actual_data_graph.remove_nodes_from(list(nx.isolates(actual_data_graph)))\n",
    "print(f\"Number of nodes: {actual_data_graph.number_of_nodes()}\")\n",
    "print(f\"Number of edges: {actual_data_graph.number_of_edges()}\")"
   ]
  },
  {
   "cell_type": "code",
   "execution_count": 17,
   "metadata": {},
   "outputs": [
    {
     "name": "stdout",
     "output_type": "stream",
     "text": [
      "Number of nodes: 276\n",
      "Number of edges: 880\n"
     ]
    }
   ],
   "source": [
    "# Create mapping dictionaries\n",
    "node_to_index_dict = {node: idx for idx, node in enumerate(actual_data_graph.nodes())}\n",
    "index_to_node_dict = {idx: node for node, idx in node_to_index_dict.items()}\n",
    "# Relabel the graph nodes to integers\n",
    "actual_data_graph = nx.relabel_nodes(actual_data_graph, node_to_index_dict)\n",
    "print(f\"Number of nodes: {actual_data_graph.number_of_nodes()}\")\n",
    "print(f\"Number of edges: {actual_data_graph.number_of_edges()}\")"
   ]
  },
  {
   "cell_type": "code",
   "execution_count": 16,
   "metadata": {},
   "outputs": [
    {
     "name": "stdout",
     "output_type": "stream",
     "text": [
      "0\n",
      "0\n",
      "[]\n",
      "[]\n",
      "0  nodes were inserted in the graph.\n",
      "0  nodes were pruned by rule 1.\n",
      "0  nodes were pruned by rule 2.\n",
      "0  nodes were pruned by rule 3.\n",
      "0\n",
      "0\n",
      "[]\n",
      "[]\n",
      "Found current edges with weights,  0  of them.\n",
      "Current count of edges,  0\n",
      "Initial Graph of pruned magnitude\n",
      "0\n",
      "[]\n",
      "--------------------\n",
      "Iteration  1\n",
      "--------------------\n",
      "Previous_iteration\n",
      "[]\n",
      "Current_iteration\n",
      "[]\n",
      "Elapsed time  0.0\n",
      "--------------------\n",
      "Difference between iterations 0.0\n",
      "Compared Difference between iterations nan\n",
      "Ended after  1  iterations\n",
      "Final iteration\n",
      "[]\n"
     ]
    }
   ],
   "source": [
    "# Run RoleSim on your graph\n",
    "current_iteration = full_operation()\n",
    "# Save the final RoleSim similarity graph if needed\n",
    "nx.write_graphml(current_iteration, 'RoleSim/role_similarity.graphml')"
   ]
  },
  {
   "cell_type": "code",
   "execution_count": null,
   "metadata": {},
   "outputs": [],
   "source": [
    "import matplotlib.pyplot as plt\n",
    "\n",
    "# Draw the graph with edge weights\n",
    "pos = nx.spring_layout(current_iteration)\n",
    "edge_labels = nx.get_edge_attributes(current_iteration, 'weight')\n",
    "nx.draw(current_iteration, pos, with_labels=True, node_size=500)\n",
    "nx.draw_networkx_edge_labels(current_iteration, pos, edge_labels=edge_labels)\n",
    "plt.show()"
   ]
  }
 ],
 "metadata": {
  "kernelspec": {
   "display_name": "myenv",
   "language": "python",
   "name": "python3"
  },
  "language_info": {
   "codemirror_mode": {
    "name": "ipython",
    "version": 3
   },
   "file_extension": ".py",
   "mimetype": "text/x-python",
   "name": "python",
   "nbconvert_exporter": "python",
   "pygments_lexer": "ipython3",
   "version": "3.12.8"
  }
 },
 "nbformat": 4,
 "nbformat_minor": 2
}
