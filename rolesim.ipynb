{
 "cells": [
  {
   "cell_type": "markdown",
   "metadata": {},
   "source": [
    "# RoleSim\n",
    "----\n",
    "Similarity measure from the **automorphic** equivalence family."
   ]
  },
  {
   "cell_type": "code",
   "execution_count": 60,
   "metadata": {},
   "outputs": [],
   "source": [
    "import pandas as pd\n",
    "import networkx as nx\n",
    "import numpy as np\n",
    "import time\n",
    "from itertools import combinations\n",
    "from networkx.algorithms.matching import max_weight_matching\n",
    "import itertools\n",
    "import matplotlib.pyplot as plt\n",
    "\n",
    "from RoleSim.RoleSim import *"
   ]
  },
  {
   "cell_type": "markdown",
   "metadata": {},
   "source": [
    "## replies-276.graphml"
   ]
  },
  {
   "cell_type": "code",
   "execution_count": 61,
   "metadata": {},
   "outputs": [
    {
     "name": "stdout",
     "output_type": "stream",
     "text": [
      "Number of nodes: 276\n",
      "Number of edges: 880\n"
     ]
    }
   ],
   "source": [
    "# Load directed graph\n",
    "directed_graph = nx.read_graphml('graphs/replies-276.graphml')\n",
    "# Convert the graph to an undirected graph\n",
    "actual_data_graph = directed_graph.to_undirected()\n",
    "# Remove any nodes with no edges\n",
    "actual_data_graph.remove_nodes_from(list(nx.isolates(actual_data_graph)))\n",
    "print(f\"Number of nodes: {actual_data_graph.number_of_nodes()}\")\n",
    "print(f\"Number of edges: {actual_data_graph.number_of_edges()}\")"
   ]
  },
  {
   "cell_type": "code",
   "execution_count": 62,
   "metadata": {},
   "outputs": [
    {
     "name": "stdout",
     "output_type": "stream",
     "text": [
      "Number of nodes: 276\n",
      "Number of edges: 880\n"
     ]
    }
   ],
   "source": [
    "# Create mapping dictionaries\n",
    "node_to_index_dict = {node: idx for idx, node in enumerate(actual_data_graph.nodes())}\n",
    "index_to_node_dict = {idx: node for node, idx in node_to_index_dict.items()}\n",
    "# Relabel the graph nodes to integers\n",
    "actual_data_graph = nx.relabel_nodes(actual_data_graph, node_to_index_dict)\n",
    "print(f\"Number of nodes: {actual_data_graph.number_of_nodes()}\")\n",
    "print(f\"Number of edges: {actual_data_graph.number_of_edges()}\")"
   ]
  },
  {
   "cell_type": "code",
   "execution_count": 63,
   "metadata": {},
   "outputs": [
    {
     "name": "stdout",
     "output_type": "stream",
     "text": [
      "0\n",
      "0\n",
      "[]\n",
      "[]\n",
      "Number of nodes: 0\n",
      "Number of edges: 0\n",
      "0  nodes were inserted in the graph.\n",
      "0  nodes were pruned by rule 1.\n",
      "0  nodes were pruned by rule 2.\n",
      "0  nodes were pruned by rule 3.\n",
      "0\n",
      "0\n",
      "[]\n",
      "[]\n",
      "Found current edges with weights,  0  of them.\n",
      "Current count of edges,  0\n",
      "Initial Graph of pruned magnitude\n",
      "0\n",
      "[]\n",
      "--------------------\n",
      "Iteration  1\n",
      "--------------------\n",
      "Previous_iteration\n",
      "[]\n",
      "Current_iteration\n",
      "[]\n",
      "Elapsed time  0.0\n",
      "--------------------\n",
      "Difference between iterations 0.0\n",
      "Compared Difference between iterations nan\n",
      "Ended after  1  iterations\n",
      "Final iteration\n",
      "[]\n"
     ]
    }
   ],
   "source": [
    "# Run RoleSim on graph\n",
    "current_iteration = full_operation()\n",
    "# Save the final RoleSim similarity graph?\n",
    "nx.write_graphml(current_iteration, 'RoleSim/role_similarity-small.graphml')"
   ]
  },
  {
   "cell_type": "code",
   "execution_count": 64,
   "metadata": {},
   "outputs": [
    {
     "data": {
      "image/png": "[encoded data removed]",
      "text/plain": [
       "<Figure size 640x480 with 1 Axes>"
      ]
     },
     "metadata": {},
     "output_type": "display_data"
    }
   ],
   "source": [
    "# Draw the graph with edge weights\n",
    "pos = nx.spring_layout(current_iteration)\n",
    "edge_labels = nx.get_edge_attributes(current_iteration, 'weight')\n",
    "nx.draw(current_iteration, pos, with_labels=True, node_size=500)\n",
    "nx.draw_networkx_edge_labels(current_iteration, pos, edge_labels=edge_labels)\n",
    "plt.show()"
   ]
  },
  {
   "cell_type": "markdown",
   "metadata": {},
   "source": [
    "## df_edge_list_directed_users_postings_replies.parquet"
   ]
  },
  {
   "cell_type": "code",
   "execution_count": 65,
   "metadata": {},
   "outputs": [
    {
     "data": {
      "text/html": [
       "<div>\n",
       "<style scoped>\n",
       "    .dataframe tbody tr th:only-of-type {\n",
       "        vertical-align: middle;\n",
       "    }\n",
       "\n",
       "    .dataframe tbody tr th {\n",
       "        vertical-align: top;\n",
       "    }\n",
       "\n",
       "    .dataframe thead th {\n",
       "        text-align: right;\n",
       "    }\n",
       "</style>\n",
       "<table border=\"1\" class=\"dataframe\">\n",
       "  <thead>\n",
       "    <tr style=\"text-align: right;\">\n",
       "      <th></th>\n",
       "      <th>ID_CommunityIdentity_Source</th>\n",
       "      <th>ID_CommunityIdentity_Target</th>\n",
       "      <th>count_posting_replies</th>\n",
       "    </tr>\n",
       "  </thead>\n",
       "  <tbody>\n",
       "    <tr>\n",
       "      <th>781028</th>\n",
       "      <td>510681</td>\n",
       "      <td>66166</td>\n",
       "      <td>2</td>\n",
       "    </tr>\n",
       "    <tr>\n",
       "      <th>68617</th>\n",
       "      <td>26559</td>\n",
       "      <td>565355</td>\n",
       "      <td>4</td>\n",
       "    </tr>\n",
       "    <tr>\n",
       "      <th>620033</th>\n",
       "      <td>238360</td>\n",
       "      <td>501957</td>\n",
       "      <td>1</td>\n",
       "    </tr>\n",
       "    <tr>\n",
       "      <th>682167</th>\n",
       "      <td>499467</td>\n",
       "      <td>581430</td>\n",
       "      <td>2</td>\n",
       "    </tr>\n",
       "    <tr>\n",
       "      <th>789575</th>\n",
       "      <td>512318</td>\n",
       "      <td>573052</td>\n",
       "      <td>1</td>\n",
       "    </tr>\n",
       "  </tbody>\n",
       "</table>\n",
       "</div>"
      ],
      "text/plain": [
       "        ID_CommunityIdentity_Source  ID_CommunityIdentity_Target  \\\n",
       "781028                       510681                        66166   \n",
       "68617                         26559                       565355   \n",
       "620033                       238360                       501957   \n",
       "682167                       499467                       581430   \n",
       "789575                       512318                       573052   \n",
       "\n",
       "        count_posting_replies  \n",
       "781028                      2  \n",
       "68617                       4  \n",
       "620033                      1  \n",
       "682167                      2  \n",
       "789575                      1  "
      ]
     },
     "execution_count": 65,
     "metadata": {},
     "output_type": "execute_result"
    }
   ],
   "source": [
    "# Load .parquet data\n",
    "postings_replies = pd.read_parquet('data/df_edge_list_directed_users_postings_replies.parquet')\n",
    "# Randomly sample 10% of data\n",
    "subset_postings_replies = postings_replies.sample(frac=0.1, random_state=1)\n",
    "subset_postings_replies.head()"
   ]
  },
  {
   "cell_type": "code",
   "execution_count": 66,
   "metadata": {},
   "outputs": [
    {
     "name": "stdout",
     "output_type": "stream",
     "text": [
      "Number of nodes: 9910\n",
      "Number of edges: 122349\n"
     ]
    }
   ],
   "source": [
    "# Create undirected graph from the .parquet data\n",
    "G = nx.Graph()\n",
    "# Add edges to the graph, assuming count_posting_replies is the weight of the edges\n",
    "for _, row in subset_postings_replies.iterrows():\n",
    "    source = row['ID_CommunityIdentity_Source']\n",
    "    target = row['ID_CommunityIdentity_Target']\n",
    "    weight = row['count_posting_replies']\n",
    "    if G.has_edge(source, target):\n",
    "        G[source][target]['weight'] += weight  # Combine weights if edge exists\n",
    "    else:\n",
    "        G.add_edge(source, target, weight=weight)\n",
    "print(f\"Number of nodes: {G.number_of_nodes()}\")\n",
    "print(f\"Number of edges: {G.number_of_edges()}\")"
   ]
  },
  {
   "cell_type": "code",
   "execution_count": 67,
   "metadata": {},
   "outputs": [
    {
     "name": "stdout",
     "output_type": "stream",
     "text": [
      "Number of nodes: 9910\n",
      "Number of edges: 122349\n"
     ]
    }
   ],
   "source": [
    "# Convert the graph to an undirected graph\n",
    "actual_data_graph = G.to_undirected()\n",
    "# Remove any nodes with no edges\n",
    "actual_data_graph.remove_nodes_from(list(nx.isolates(actual_data_graph)))\n",
    "print(f\"Number of nodes: {actual_data_graph.number_of_nodes()}\")\n",
    "print(f\"Number of edges: {actual_data_graph.number_of_edges()}\")"
   ]
  },
  {
   "cell_type": "code",
   "execution_count": 68,
   "metadata": {},
   "outputs": [
    {
     "name": "stdout",
     "output_type": "stream",
     "text": [
      "Number of nodes: 9910\n",
      "Number of edges: 122349\n"
     ]
    }
   ],
   "source": [
    "# Create mapping dictionaries\n",
    "node_to_index_dict = {node: idx for idx, node in enumerate(actual_data_graph.nodes())}\n",
    "index_to_node_dict = {idx: node for node, idx in node_to_index_dict.items()}\n",
    "# Relabel the graph nodes to integers\n",
    "actual_data_graph = nx.relabel_nodes(actual_data_graph, node_to_index_dict)\n",
    "print(f\"Number of nodes: {actual_data_graph.number_of_nodes()}\")\n",
    "print(f\"Number of edges: {actual_data_graph.number_of_edges()}\")"
   ]
  },
  {
   "cell_type": "code",
   "execution_count": 69,
   "metadata": {},
   "outputs": [
    {
     "name": "stdout",
     "output_type": "stream",
     "text": [
      "0\n",
      "0\n",
      "[]\n",
      "[]\n",
      "Number of nodes: 0\n",
      "Number of edges: 0\n",
      "0  nodes were inserted in the graph.\n",
      "0  nodes were pruned by rule 1.\n",
      "0  nodes were pruned by rule 2.\n",
      "0  nodes were pruned by rule 3.\n",
      "0\n",
      "0\n",
      "[]\n",
      "[]\n",
      "Found current edges with weights,  0  of them.\n",
      "Current count of edges,  0\n",
      "Initial Graph of pruned magnitude\n",
      "0\n",
      "[]\n",
      "--------------------\n",
      "Iteration  1\n",
      "--------------------\n",
      "Previous_iteration\n",
      "[]\n",
      "Current_iteration\n",
      "[]\n",
      "Elapsed time  0.0\n",
      "--------------------\n",
      "Difference between iterations 0.0\n",
      "Compared Difference between iterations nan\n",
      "Ended after  1  iterations\n",
      "Final iteration\n",
      "[]\n"
     ]
    },
    {
     "name": "stderr",
     "output_type": "stream",
     "text": [
      "c:\\Users\\IvanB\\OneDrive - TU Wien\\University\\TU Wien\\2024W\\194.050 Social Network Analysis\\Project\\equivalence-based-network-role-mining\\RoleSim\\RoleSim.py:303: RuntimeWarning: invalid value encountered in scalar divide\n",
      "  print(\"Compared Difference between iterations\", diff / current_iteration.number_of_edges())\n"
     ]
    }
   ],
   "source": [
    "# Run RoleSim on graph\n",
    "current_iteration = full_operation()\n",
    "# Save the final RoleSim similarity graph?\n",
    "nx.write_graphml(current_iteration, 'RoleSim/role_similarity.graphml')"
   ]
  },
  {
   "cell_type": "code",
   "execution_count": null,
   "metadata": {},
   "outputs": [],
   "source": []
  },
  {
   "cell_type": "code",
   "execution_count": null,
   "metadata": {},
   "outputs": [],
   "source": []
  }
 ],
 "metadata": {
  "kernelspec": {
   "display_name": "myenv",
   "language": "python",
   "name": "python3"
  },
  "language_info": {
   "codemirror_mode": {
    "name": "ipython",
    "version": 3
   },
   "file_extension": ".py",
   "mimetype": "text/x-python",
   "name": "python",
   "nbconvert_exporter": "python",
   "pygments_lexer": "ipython3",
   "version": "3.12.8"
  }
 },
 "nbformat": 4,
 "nbformat_minor": 2
}
